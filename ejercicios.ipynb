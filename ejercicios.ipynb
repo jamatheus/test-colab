{
  "nbformat": 4,
  "nbformat_minor": 0,
  "metadata": {
    "colab": {
      "name": "ejercicios.ipynb",
      "provenance": [],
      "collapsed_sections": [],
      "authorship_tag": "ABX9TyO9FjgTFXPj6yqvgVlBCR1s",
      "include_colab_link": true
    },
    "kernelspec": {
      "name": "python3",
      "display_name": "Python 3"
    },
    "language_info": {
      "name": "python"
    }
  },
  "cells": [
    {
      "cell_type": "markdown",
      "metadata": {
        "id": "view-in-github",
        "colab_type": "text"
      },
      "source": [
        "<a href=\"https://colab.research.google.com/github/jamatheus/test-colab/blob/main/ejercicios.ipynb\" target=\"_parent\"><img src=\"https://colab.research.google.com/assets/colab-badge.svg\" alt=\"Open In Colab\"/></a>"
      ]
    },
    {
      "cell_type": "code",
      "metadata": {
        "id": "n7YQoPSvoKqV"
      },
      "source": [
        ""
      ],
      "execution_count": null,
      "outputs": []
    },
    {
      "cell_type": "markdown",
      "metadata": {
        "id": "SHEZflnUoPbg"
      },
      "source": [
        "## Escribe un programa que imprimar la version de python\n"
      ]
    },
    {
      "cell_type": "code",
      "metadata": {
        "colab": {
          "base_uri": "https://localhost:8080/"
        },
        "id": "3vudwisBoacq",
        "outputId": "06d7c95b-6c1c-4275-b525-75725f319892"
      },
      "source": [
        "import sys\n",
        "sys.version\n",
        "print(sys.version.split())"
      ],
      "execution_count": 3,
      "outputs": [
        {
          "output_type": "stream",
          "name": "stdout",
          "text": [
            "['3.7.12', '(default,', 'Sep', '10', '2021,', '00:21:48)', '[GCC', '7.5.0]']\n"
          ]
        }
      ]
    },
    {
      "cell_type": "markdown",
      "metadata": {
        "id": "rZilh7vjsgL9"
      },
      "source": [
        "###Todos los números naturales divisibles por 5 y 7 menores que 20 son [0,5,7,10,14,15] la suma de estos es el número 51. en este ejercicio. tratamos el cero como un número natural.\n",
        "\n",
        "hallar la suma de todos los números naturales que son divisibles entre 5 y 7 menos 100"
      ]
    },
    {
      "cell_type": "code",
      "metadata": {
        "colab": {
          "base_uri": "https://localhost:8080/"
        },
        "id": "loZlXneJqXMj",
        "outputId": "b4f397ef-a53a-4bda-ac8f-3cb4e6cb4a5c"
      },
      "source": [
        "numeros = []\n",
        "for i in range(100):\n",
        "    if i % 5 == 0 or i % 7 == 0:\n",
        "        numeros.append(i)\n",
        "    total = sum(numeros)\n",
        "print(total)"
      ],
      "execution_count": 10,
      "outputs": [
        {
          "output_type": "stream",
          "name": "stdout",
          "text": [
            "1580\n"
          ]
        }
      ]
    },
    {
      "cell_type": "code",
      "metadata": {
        "colab": {
          "base_uri": "https://localhost:8080/"
        },
        "id": "aTX-ogtPuLAm",
        "outputId": "1d4f7ea7-5fc9-4659-b106-474aadaca3ae"
      },
      "source": [
        "def calcular():\n",
        "    numeros = []\n",
        "    for i in range(100):\n",
        "        if i % 5 == 0 or i % 7 == 0:\n",
        "            numeros.append(i)\n",
        "        total = sum(numeros)\n",
        "    return total\n",
        "\n",
        "calcular()"
      ],
      "execution_count": 13,
      "outputs": [
        {
          "output_type": "execute_result",
          "data": {
            "text/plain": [
              "1580"
            ]
          },
          "metadata": {},
          "execution_count": 13
        }
      ]
    }
  ]
}