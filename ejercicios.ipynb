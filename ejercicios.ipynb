{
  "nbformat": 4,
  "nbformat_minor": 0,
  "metadata": {
    "colab": {
      "name": "ejercicios.ipynb",
      "provenance": [],
      "authorship_tag": "ABX9TyP9WWgLo7r7qA9dHz8ZOrJr",
      "include_colab_link": true
    },
    "kernelspec": {
      "name": "python3",
      "display_name": "Python 3"
    },
    "language_info": {
      "name": "python"
    }
  },
  "cells": [
    {
      "cell_type": "markdown",
      "metadata": {
        "id": "view-in-github",
        "colab_type": "text"
      },
      "source": [
        "<a href=\"https://colab.research.google.com/github/jamatheus/test-colab/blob/main/ejercicios.ipynb\" target=\"_parent\"><img src=\"https://colab.research.google.com/assets/colab-badge.svg\" alt=\"Open In Colab\"/></a>"
      ]
    },
    {
      "cell_type": "code",
      "metadata": {
        "id": "n7YQoPSvoKqV"
      },
      "source": [
        ""
      ],
      "execution_count": null,
      "outputs": []
    },
    {
      "cell_type": "markdown",
      "metadata": {
        "id": "SHEZflnUoPbg"
      },
      "source": [
        "## Escribe un progrma que imprimar la version de python\n"
      ]
    },
    {
      "cell_type": "code",
      "metadata": {
        "colab": {
          "base_uri": "https://localhost:8080/"
        },
        "id": "3vudwisBoacq",
        "outputId": "06d7c95b-6c1c-4275-b525-75725f319892"
      },
      "source": [
        "import sys\n",
        "sys.version\n",
        "print(sys.version.split())"
      ],
      "execution_count": 3,
      "outputs": [
        {
          "output_type": "stream",
          "name": "stdout",
          "text": [
            "['3.7.12', '(default,', 'Sep', '10', '2021,', '00:21:48)', '[GCC', '7.5.0]']\n"
          ]
        }
      ]
    }
  ]
}