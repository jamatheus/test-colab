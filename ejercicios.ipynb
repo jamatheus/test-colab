{
  "nbformat": 4,
  "nbformat_minor": 0,
  "metadata": {
    "colab": {
      "name": "ejercicios.ipynb",
      "provenance": [],
      "collapsed_sections": [],
      "authorship_tag": "ABX9TyMPVGfcAUVuWrP/HMr7VaXq",
      "include_colab_link": true
    },
    "kernelspec": {
      "name": "python3",
      "display_name": "Python 3"
    },
    "language_info": {
      "name": "python"
    }
  },
  "cells": [
    {
      "cell_type": "markdown",
      "metadata": {
        "id": "view-in-github",
        "colab_type": "text"
      },
      "source": [
        "<a href=\"https://colab.research.google.com/github/jamatheus/test-colab/blob/main/ejercicios.ipynb\" target=\"_parent\"><img src=\"https://colab.research.google.com/assets/colab-badge.svg\" alt=\"Open In Colab\"/></a>"
      ]
    },
    {
      "cell_type": "code",
      "metadata": {
        "id": "n7YQoPSvoKqV"
      },
      "source": [
        ""
      ],
      "execution_count": null,
      "outputs": []
    },
    {
      "cell_type": "markdown",
      "metadata": {
        "id": "SHEZflnUoPbg"
      },
      "source": [
        "## Escribe un programa que imprimar la version de python\n"
      ]
    },
    {
      "cell_type": "code",
      "metadata": {
        "colab": {
          "base_uri": "https://localhost:8080/"
        },
        "id": "3vudwisBoacq",
        "outputId": "06d7c95b-6c1c-4275-b525-75725f319892"
      },
      "source": [
        "import sys\n",
        "sys.version\n",
        "print(sys.version.split())"
      ],
      "execution_count": null,
      "outputs": [
        {
          "output_type": "stream",
          "name": "stdout",
          "text": [
            "['3.7.12', '(default,', 'Sep', '10', '2021,', '00:21:48)', '[GCC', '7.5.0]']\n"
          ]
        }
      ]
    },
    {
      "cell_type": "markdown",
      "metadata": {
        "id": "rZilh7vjsgL9"
      },
      "source": [
        "###Todos los números naturales divisibles por 5 y 7 menores que 20 son [0,5,7,10,14,15] la suma de estos es el número 51. en este ejercicio. tratamos el cero como un número natural.\n",
        "\n",
        "hallar la suma de todos los números naturales que son divisibles entre 5 y 7 menos 100"
      ]
    },
    {
      "cell_type": "code",
      "metadata": {
        "colab": {
          "base_uri": "https://localhost:8080/"
        },
        "id": "loZlXneJqXMj",
        "outputId": "b4f397ef-a53a-4bda-ac8f-3cb4e6cb4a5c"
      },
      "source": [
        "numeros = []\n",
        "for i in range(100):\n",
        "    if i % 5 == 0 or i % 7 == 0:\n",
        "        numeros.append(i)\n",
        "    total = sum(numeros)\n",
        "print(total)"
      ],
      "execution_count": null,
      "outputs": [
        {
          "output_type": "stream",
          "name": "stdout",
          "text": [
            "1580\n"
          ]
        }
      ]
    },
    {
      "cell_type": "code",
      "metadata": {
        "colab": {
          "base_uri": "https://localhost:8080/"
        },
        "id": "aTX-ogtPuLAm",
        "outputId": "1d4f7ea7-5fc9-4659-b106-474aadaca3ae"
      },
      "source": [
        "def calcular():\n",
        "    numeros = []\n",
        "    for i in range(100):\n",
        "        if i % 5 == 0 or i % 7 == 0:\n",
        "            numeros.append(i)\n",
        "        total = sum(numeros)\n",
        "    return total\n",
        "\n",
        "calcular()"
      ],
      "execution_count": null,
      "outputs": [
        {
          "output_type": "execute_result",
          "data": {
            "text/plain": [
              "1580"
            ]
          },
          "metadata": {},
          "execution_count": 13
        }
      ]
    },
    {
      "cell_type": "markdown",
      "metadata": {
        "id": "NIyUrM9_vKlu"
      },
      "source": [
        "### Considere la secuencia fibonacci. Esta es la secuencia de numeros naturales, define la recursividad como lo siguiente.\n",
        ". El primero numero de la secuencia es 0\n",
        ". El segundo numero de la secuencia es 1\n",
        ". Cada siguiente elemento de la secuencia es la suma de los dos elementos previos\n",
        "\n"
      ]
    },
    {
      "cell_type": "code",
      "metadata": {
        "colab": {
          "base_uri": "https://localhost:8080/"
        },
        "id": "7oozF681v7oF",
        "outputId": "d99ca2b3-3166-48fc-8f86-a583ba506fc7"
      },
      "source": [
        "def fibonacci(n):\n",
        "    lista = []\n",
        "    a,b = 0,1\n",
        "    for i in range(n):\n",
        "        lista.append(a)\n",
        "        a,b = b, a + b\n",
        "    return lista\n",
        "\n",
        "print(fibonacci(10))"
      ],
      "execution_count": null,
      "outputs": [
        {
          "output_type": "stream",
          "name": "stdout",
          "text": [
            "[0, 1, 1, 2, 3, 5, 8, 13, 21, 34]\n"
          ]
        }
      ]
    },
    {
      "cell_type": "markdown",
      "metadata": {
        "id": "XhEE1HK8w5yB"
      },
      "source": [
        "## Numeros primos"
      ]
    },
    {
      "cell_type": "code",
      "metadata": {
        "id": "hmucbhrTw_ga",
        "colab": {
          "base_uri": "https://localhost:8080/"
        },
        "outputId": "ed7bf414-7a2a-45e7-d7ca-f3269624a059"
      },
      "source": [
        "def n_primos(num_inicial,num_final):\n",
        "    primos = []\n",
        "    for n in range(num_inicial,num_final+1):\n",
        "        contador = 0\n",
        "        for i in range(1,n+1):\n",
        "            if n % i == 0:\n",
        "                contador +=1\n",
        "        if contador == 2:\n",
        "            primos.append(n)\n",
        "    return primos\n",
        "\n",
        "def n_primosv2(num_inicial, num_final):\n",
        "\n",
        "    if num_inicial < 2:\n",
        "        num_inicial = 2\n",
        "    primos = []\n",
        "    for n in range(num_inicial,num_final):\n",
        "        es_primo =True\n",
        "        for i in range(2,n):\n",
        "            if n % i == 0:\n",
        "                es_primo = False\n",
        "        if es_primo:\n",
        "            primos.append(n)\n",
        "    return primos\n",
        "\n",
        "\n",
        "n1 = int(input(\"Introduzca el numero inicial :\"))\n",
        "n2 = int(input(\"Introduzca el numero final :\"))\n",
        "print(n_primos(n1,n2),end=\" \")\n",
        "print(n_primosv2(n1,n2),end=\" \")    \n",
        "\n",
        "\n",
        "\n"
      ],
      "execution_count": 23,
      "outputs": [
        {
          "output_type": "stream",
          "name": "stdout",
          "text": [
            "Introduzca el numero inicial :1\n",
            "Introduzca el numero final :10\n",
            "[2, 3, 5, 7] [2, 3, 5, 7] "
          ]
        }
      ]
    }
  ]
}